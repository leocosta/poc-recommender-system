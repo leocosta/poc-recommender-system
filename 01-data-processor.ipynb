{
 "cells": [
  {
   "cell_type": "markdown",
   "metadata": {},
   "source": [
    "# Processamento dos Dados\n",
    "\n",
    "- Extração de logs de Visualização\n",
    "- Extração de logs de Instalação\n",
    "- Identificação de registros repetidos\n",
    "- Remoção de registros repetidos\n",
    "- Junção dos dados de Visualização/Instalação e Cálculo do Score\n",
    "- Prévia dos dados processados"
   ]
  },
  {
   "cell_type": "code",
   "execution_count": 401,
   "metadata": {},
   "outputs": [],
   "source": [
    "import json\n",
    "import pandas as pd\n",
    "import matplotlib.pyplot as plt\n",
    "\n",
    "from IPython.core.interactiveshell import InteractiveShell\n",
    "InteractiveShell.ast_node_interactivity = \"all\"\n",
    "\n",
    "viewed_applications_log_file = 'data/viewed-applications-requests-20200709.csv'\n",
    "installed_applications_log_file = 'data/installed-applications-requests-20200709.csv'\n",
    "\n",
    "views_file = 'data/views.csv'\n",
    "installations_file = 'data/installations.csv'\n",
    "applications_by_terminals_file = 'data/applications-by-terminals.csv'"
   ]
  },
  {
   "cell_type": "markdown",
   "metadata": {},
   "source": [
    "## Extração de logs de Visualização\n",
    "\n",
    "Transformando logs de requisição de visualização em dados de visualização dos aplicativos por terminal.\n",
    "\n",
    "**Log de Exemplo:**\n",
    "\n",
    "```json\n",
    "{\n",
    "  \"OperationController\": \"StoreApplicationsController\",\n",
    "  \"OperationName\": \"GetApplicationDetailsAsync\",\n",
    "  \"RemoteAddress\": \"::ffff:30.10.9.65\",\n",
    "  \"RemotePort\": 39800,\n",
    "  \"ElapsedTimeInSeconds\": 0.08542036128989434,\n",
    "  \"AdditionalData\": {\n",
    "    \"RequestMessage\": {\n",
    "      \"TerminalIdentifier\": {\n",
    "        \"Model\": \"F41000T\",\n",
    "        \"Terminal\": \"48\"\n",
    "      },\n",
    "      \"Application\": {\n",
    "        \"ApplicationId\": \"114\",\n",
    "        \"ApplicationName\": \"Pague Aqui\",\n",
    "        \"InternalName\": \"com.lausivsoft.partnershop\",\n",
    "        \"Version\": \"1.2.1649\",\n",
    "        \"Publisher\": \"PagueAqui\"\n",
    "      }\n",
    "    }\n",
    "  },\n",
    "  \"MachineName\": \"TMS-V-1P01\",\n",
    "  \"Message\": \"Ended operation 'GetApplicationDetailsAsync' from 'StoreApplicationsController'.\",\n",
    "  \"NativeProcessId\": \"4180\",\n",
    "  \"ProcessName\": \"StoreApplications.API\",\n",
    "  \"ProductName\": \"StoreApplications.API\",\n",
    "  \"ProductVersion\": \"1.3.8.20154\",\n",
    "  \"Severity\": \"Info\",\n",
    "  \"Timestamp\": \"2020-07-09T21:52:31.605Z\",\n",
    "  \"TraceKey\": \"cde76969-d1d3-4d04-a7c6-c480963c9b44\",\n",
    "  \"TraceStack\": [\n",
    "    \"cde76969-d1d3-4d04-a7c6-c480963c9b44\"\n",
    "  ],\n",
    "  \"TypeName\": \"OperationLogEntry\",\n",
    "  \"SeverityCode\": 6,\n",
    "  \"TimestampTicks\": 1594331551605\n",
    "}\n",
    "```"
   ]
  },
  {
   "cell_type": "code",
   "execution_count": 402,
   "metadata": {},
   "outputs": [],
   "source": [
    "def export_views_to_csv(source_file, destination_file):\n",
    "    \n",
    "    df = pd.read_csv(source_file)\n",
    "\n",
    "    items = []\n",
    "    for i, row in df.iterrows():\n",
    "        jsonLogEntry = json.loads(row['LogEntry'])\n",
    "        terminalIdentifier = jsonLogEntry['AdditionalData']['RequestMessage']['TerminalIdentifier']\n",
    "        application = jsonLogEntry['AdditionalData']['RequestMessage']['Application']\n",
    "        \n",
    "        item = {}\n",
    "        item['Terminal'] = terminalIdentifier['Terminal']\n",
    "        item['ApplicationId'] = application['ApplicationId']\n",
    "\n",
    "        items.append(item)\n",
    "\n",
    "    df_output = pd.DataFrame(data=items)\n",
    "    df_output.to_csv(destination_file, index=False)"
   ]
  },
  {
   "cell_type": "code",
   "execution_count": 403,
   "metadata": {},
   "outputs": [],
   "source": [
    "export_views_to_csv(viewed_applications_log_file, views_file)"
   ]
  },
  {
   "cell_type": "markdown",
   "metadata": {},
   "source": [
    "#### Dados extraídos"
   ]
  },
  {
   "cell_type": "code",
   "execution_count": 404,
   "metadata": {},
   "outputs": [
    {
     "data": {
      "text/html": [
       "<div>\n",
       "<style scoped>\n",
       "    .dataframe tbody tr th:only-of-type {\n",
       "        vertical-align: middle;\n",
       "    }\n",
       "\n",
       "    .dataframe tbody tr th {\n",
       "        vertical-align: top;\n",
       "    }\n",
       "\n",
       "    .dataframe thead th {\n",
       "        text-align: right;\n",
       "    }\n",
       "</style>\n",
       "<table border=\"1\" class=\"dataframe\">\n",
       "  <thead>\n",
       "    <tr style=\"text-align: right;\">\n",
       "      <th></th>\n",
       "      <th>Terminal</th>\n",
       "      <th>ApplicationId</th>\n",
       "    </tr>\n",
       "  </thead>\n",
       "  <tbody>\n",
       "    <tr>\n",
       "      <th>count</th>\n",
       "      <td>59778.000000</td>\n",
       "      <td>59778.000000</td>\n",
       "    </tr>\n",
       "    <tr>\n",
       "      <th>mean</th>\n",
       "      <td>2991.695390</td>\n",
       "      <td>106.862541</td>\n",
       "    </tr>\n",
       "    <tr>\n",
       "      <th>std</th>\n",
       "      <td>1219.885322</td>\n",
       "      <td>57.646678</td>\n",
       "    </tr>\n",
       "    <tr>\n",
       "      <th>min</th>\n",
       "      <td>62.000000</td>\n",
       "      <td>1.000000</td>\n",
       "    </tr>\n",
       "    <tr>\n",
       "      <th>25%</th>\n",
       "      <td>2108.000000</td>\n",
       "      <td>57.000000</td>\n",
       "    </tr>\n",
       "    <tr>\n",
       "      <th>50%</th>\n",
       "      <td>3004.000000</td>\n",
       "      <td>114.000000</td>\n",
       "    </tr>\n",
       "    <tr>\n",
       "      <th>75%</th>\n",
       "      <td>3876.000000</td>\n",
       "      <td>153.000000</td>\n",
       "    </tr>\n",
       "    <tr>\n",
       "      <th>max</th>\n",
       "      <td>5961.000000</td>\n",
       "      <td>221.000000</td>\n",
       "    </tr>\n",
       "  </tbody>\n",
       "</table>\n",
       "</div>"
      ],
      "text/plain": [
       "           Terminal  ApplicationId\n",
       "count  59778.000000   59778.000000\n",
       "mean    2991.695390     106.862541\n",
       "std     1219.885322      57.646678\n",
       "min       62.000000       1.000000\n",
       "25%     2108.000000      57.000000\n",
       "50%     3004.000000     114.000000\n",
       "75%     3876.000000     153.000000\n",
       "max     5961.000000     221.000000"
      ]
     },
     "execution_count": 404,
     "metadata": {},
     "output_type": "execute_result"
    }
   ],
   "source": [
    "df = pd.read_csv(views_file)\n",
    "df.describe()"
   ]
  },
  {
   "cell_type": "markdown",
   "metadata": {},
   "source": [
    "## Extração de logs de Instalação\n",
    "\n",
    "Transformando logs de requisição de instalação em dados de instalação dos aplicativos por terminal.\n",
    "\n",
    "**Log de Exemplo:**\n",
    "\n",
    "```json\n",
    "{\n",
    "    \"OperationController\": \"StoreApplicationsController\",\n",
    "    \"OperationName\": \"GetAvailableApplicationsAsync\",\n",
    "    \"RemoteAddress\": \"::ffff:30.10.9.65\",\n",
    "    \"RemotePort\": 39800,\n",
    "    \"ElapsedTimeInSeconds\": 0.02837908089524317,\n",
    "    \"AdditionalData\": {\n",
    "        \"RequestMessage\": {\n",
    "            \"TerminalIdentifier\": {\n",
    "                \"Model\": \"F41000T\",\n",
    "                \"Terminal\": \"490\"\n",
    "            },\n",
    "            \"InstalledPackages\": [\n",
    "                {\n",
    "                    \"ApplicationId\": \"98\",\n",
    "                    \"ApplicationName\": \"POS Controle\",\n",
    "                    \"Version\": \"2.2.2478\"\n",
    "                },\n",
    "                {\n",
    "                    \"ApplicationId\": \"144\",\n",
    "                    \"ApplicationName\": \"Scheduler\",\n",
    "                    \"Version\": \"1.2.4086\"\n",
    "                },\n",
    "                {\n",
    "                    \"ApplicationId\": \"92\",\n",
    "                    \"ApplicationName\": \"Launcher Piton\",\n",
    "                    \"Version\": \"4.2.4092\"\n",
    "                },\n",
    "                {\n",
    "                    \"ApplicationId\": \"26\",\n",
    "                    \"ApplicationName\": \"Simular Venda\",\n",
    "                    \"Version\": \"1.2.890\"\n",
    "                },\n",
    "                {\n",
    "                    \"ApplicationId\": \"153\",\n",
    "                    \"ApplicationName\": \"Time Machine\",\n",
    "                    \"Version\": \"4.2.2590\"\n",
    "                },\n",
    "                {\n",
    "                    \"ApplicationId\": \"131\",\n",
    "                    \"ApplicationName\": \"Livance\",\n",
    "                    \"Version\": \"1.2.718\"\n",
    "                },\n",
    "                {\n",
    "                    \"ApplicationId\": \"25\",\n",
    "                    \"ApplicationName\": \"Reimpressão\",\n",
    "                    \"Version\": \"2.2.1926\"\n",
    "                },\n",
    "                {\n",
    "                    \"ApplicationId\": \"150\",\n",
    "                    \"ApplicationName\": \"CRC\",\n",
    "                    \"Version\": \"2.2.2786\"\n",
    "                },\n",
    "                {\n",
    "                    \"ApplicationId\": \"151\",\n",
    "                    \"ApplicationName\": \"Pocket\",\n",
    "                    \"Version\": \"2.2.3759\"\n",
    "                },\n",
    "                {\n",
    "                    \"ApplicationId\": \"87\",\n",
    "                    \"ApplicationName\": \"Calculadora Piton\",\n",
    "                    \"Version\": \"3.2.1623\"\n",
    "                },\n",
    "                {\n",
    "                    \"ApplicationId\": \"16\",\n",
    "                    \"ApplicationName\": \"PDM\",\n",
    "                    \"Version\": \"2.2.3825\"\n",
    "                },\n",
    "                {\n",
    "                    \"ApplicationId\": \"210\",\n",
    "                    \"ApplicationName\": \"Factory Package\",\n",
    "                    \"Version\": \"1.2.4412\"\n",
    "                }\n",
    "            ],\n",
    "            \"CurrentPage\": 1,\n",
    "            \"RecordsPerPage\": 10\n",
    "        }\n",
    "    },\n",
    "    \"MachineName\": \"V-1P02\",\n",
    "    \"Message\": \"Ended operation 'GetAvailableApplicationsAsync' from 'StoreApplicationsController'.\",\n",
    "    \"NativeProcessId\": \"4180\",\n",
    "    \"ProcessName\": \"StoreApplications.API\",\n",
    "    \"ProductName\": \"StoreApplications.API\",\n",
    "    \"ProductVersion\": \"1.3.8.20154\",\n",
    "    \"Severity\": \"Info\",\n",
    "    \"Timestamp\": \"2020-07-12T12:46:34.359Z\",\n",
    "    \"TraceKey\": \"e72bd495-ee5b-4bad-9fc7-7146794ce709\",\n",
    "    \"TraceStack\": [\n",
    "        \"e72bd495-ee5b-4bad-9fc7-7146794ce709\"\n",
    "    ],\n",
    "    \"TypeName\": \"OperationLogEntry\",\n",
    "    \"SeverityCode\": 6,\n",
    "    \"TimestampTicks\": 1594557994359\n",
    "}\n",
    "```"
   ]
  },
  {
   "cell_type": "code",
   "execution_count": 405,
   "metadata": {},
   "outputs": [],
   "source": [
    "def export_installations_to_csv(source_file, destination_file):\n",
    "    \n",
    "    df = pd.read_csv(source_file)\n",
    "\n",
    "    items = []\n",
    "    for i, row in df.iterrows():\n",
    "        jsonLogEntry = json.loads(row['LogEntry'])\n",
    "        terminalIdentifier = jsonLogEntry['AdditionalData']['RequestMessage']['TerminalIdentifier']\n",
    "        installedPackages = jsonLogEntry['AdditionalData']['RequestMessage']['InstalledPackages']\n",
    "        \n",
    "        for j, installedPackage in enumerate(installedPackages):\n",
    "\n",
    "            item = {}\n",
    "            item['Terminal'] = terminalIdentifier['Terminal']\n",
    "            item['ApplicationId'] = installedPackage['ApplicationId']\n",
    "            items.append(item)\n",
    "    \n",
    "    df_output = pd.DataFrame(data=items)\n",
    "    df_output.to_csv(destination_file, index=False)"
   ]
  },
  {
   "cell_type": "code",
   "execution_count": 406,
   "metadata": {},
   "outputs": [],
   "source": [
    "export_installations_to_csv(installed_applications_log_file, installations_file)"
   ]
  },
  {
   "cell_type": "markdown",
   "metadata": {},
   "source": [
    "#### Dados extraídos"
   ]
  },
  {
   "cell_type": "code",
   "execution_count": 407,
   "metadata": {},
   "outputs": [
    {
     "data": {
      "text/html": [
       "<div>\n",
       "<style scoped>\n",
       "    .dataframe tbody tr th:only-of-type {\n",
       "        vertical-align: middle;\n",
       "    }\n",
       "\n",
       "    .dataframe tbody tr th {\n",
       "        vertical-align: top;\n",
       "    }\n",
       "\n",
       "    .dataframe thead th {\n",
       "        text-align: right;\n",
       "    }\n",
       "</style>\n",
       "<table border=\"1\" class=\"dataframe\">\n",
       "  <thead>\n",
       "    <tr style=\"text-align: right;\">\n",
       "      <th></th>\n",
       "      <th>Terminal</th>\n",
       "      <th>ApplicationId</th>\n",
       "    </tr>\n",
       "  </thead>\n",
       "  <tbody>\n",
       "    <tr>\n",
       "      <th>count</th>\n",
       "      <td>18232.000000</td>\n",
       "      <td>18232.000000</td>\n",
       "    </tr>\n",
       "    <tr>\n",
       "      <th>mean</th>\n",
       "      <td>2993.221753</td>\n",
       "      <td>106.938789</td>\n",
       "    </tr>\n",
       "    <tr>\n",
       "      <th>std</th>\n",
       "      <td>1260.665478</td>\n",
       "      <td>57.936260</td>\n",
       "    </tr>\n",
       "    <tr>\n",
       "      <th>min</th>\n",
       "      <td>62.000000</td>\n",
       "      <td>1.000000</td>\n",
       "    </tr>\n",
       "    <tr>\n",
       "      <th>25%</th>\n",
       "      <td>2082.000000</td>\n",
       "      <td>57.000000</td>\n",
       "    </tr>\n",
       "    <tr>\n",
       "      <th>50%</th>\n",
       "      <td>2973.000000</td>\n",
       "      <td>114.000000</td>\n",
       "    </tr>\n",
       "    <tr>\n",
       "      <th>75%</th>\n",
       "      <td>3871.000000</td>\n",
       "      <td>154.000000</td>\n",
       "    </tr>\n",
       "    <tr>\n",
       "      <th>max</th>\n",
       "      <td>5894.000000</td>\n",
       "      <td>221.000000</td>\n",
       "    </tr>\n",
       "  </tbody>\n",
       "</table>\n",
       "</div>"
      ],
      "text/plain": [
       "           Terminal  ApplicationId\n",
       "count  18232.000000   18232.000000\n",
       "mean    2993.221753     106.938789\n",
       "std     1260.665478      57.936260\n",
       "min       62.000000       1.000000\n",
       "25%     2082.000000      57.000000\n",
       "50%     2973.000000     114.000000\n",
       "75%     3871.000000     154.000000\n",
       "max     5894.000000     221.000000"
      ]
     },
     "execution_count": 407,
     "metadata": {},
     "output_type": "execute_result"
    }
   ],
   "source": [
    "df = pd.read_csv(installations_file)\n",
    "df.describe()"
   ]
  },
  {
   "cell_type": "markdown",
   "metadata": {},
   "source": [
    "## Identificação de registros repetidos"
   ]
  },
  {
   "cell_type": "code",
   "execution_count": 408,
   "metadata": {},
   "outputs": [],
   "source": [
    "def show_repeated_entries_overview(source_file):\n",
    "    df = pd.read_csv(source_file)\n",
    "\n",
    "    grouped_df = df.groupby(['Terminal', 'ApplicationId']).size() \\\n",
    "        .reset_index(name='counts')\n",
    "    \n",
    "    data = grouped_df['counts'].value_counts()\n",
    "\n",
    "    print('Registros por ocorrência:')\n",
    "    for key in data.keys():\n",
    "        print(f'\\t{key} ocorrência(s): {data[key]}')\n",
    "    \n",
    "def plot_repeated_entries_overview(source_file):\n",
    "\n",
    "    df = pd.read_csv(source_file)\n",
    "\n",
    "    grouped_df = df.groupby(['Terminal', 'ApplicationId']).size() \\\n",
    "        .reset_index(name='counts')\n",
    "    \n",
    "    data = grouped_df[grouped_df['counts']>1]['counts'].value_counts()\n",
    "    \n",
    "    fig, ax = plt.subplots()\n",
    "    data.plot(ax=ax, kind='bar')\n",
    "    plt.xlabel('Número de Repetições')\n",
    "    plt.ylabel('Total de Registros')\n",
    "    plt.title('Registros repetidos')\n",
    "    plt.show()"
   ]
  },
  {
   "cell_type": "markdown",
   "metadata": {},
   "source": [
    "#### Visualizações"
   ]
  },
  {
   "cell_type": "code",
   "execution_count": 409,
   "metadata": {},
   "outputs": [
    {
     "name": "stdout",
     "output_type": "stream",
     "text": [
      "Registros por ocorrência:\n",
      "\t1 ocorrência(s): 53637\n",
      "\t2 ocorrência(s): 2812\n",
      "\t3 ocorrência(s): 150\n",
      "\t4 ocorrência(s): 13\n",
      "\t5 ocorrência(s): 3\n"
     ]
    },
    {
     "data": {
      "image/png": "[encoded data removed]",
      "text/plain": [
       "<Figure size 432x288 with 1 Axes>"
      ]
     },
     "metadata": {
      "needs_background": "light"
     },
     "output_type": "display_data"
    }
   ],
   "source": [
    "show_repeated_entries_overview(views_file)\n",
    "plot_repeated_entries_overview(views_file)"
   ]
  },
  {
   "cell_type": "markdown",
   "metadata": {},
   "source": [
    "#### Instalações"
   ]
  },
  {
   "cell_type": "code",
   "execution_count": 410,
   "metadata": {},
   "outputs": [
    {
     "name": "stdout",
     "output_type": "stream",
     "text": [
      "Registros por ocorrência:\n",
      "\t1 ocorrência(s): 17220\n",
      "\t2 ocorrência(s): 478\n",
      "\t3 ocorrência(s): 16\n",
      "\t4 ocorrência(s): 2\n"
     ]
    },
    {
     "data": {
      "image/png": "[encoded data removed]",
      "text/plain": [
       "<Figure size 432x288 with 1 Axes>"
      ]
     },
     "metadata": {
      "needs_background": "light"
     },
     "output_type": "display_data"
    }
   ],
   "source": [
    "show_repeated_entries_overview(installations_file)\n",
    "plot_repeated_entries_overview(installations_file)"
   ]
  },
  {
   "cell_type": "markdown",
   "metadata": {},
   "source": [
    "## Remoção de registros repetidos"
   ]
  },
  {
   "cell_type": "code",
   "execution_count": 411,
   "metadata": {},
   "outputs": [],
   "source": [
    "def remove_repeated_entries(source_file):\n",
    "    df = pd.read_csv(source_file)\n",
    "\n",
    "    df.drop_duplicates(['Terminal','ApplicationId'], keep= 'last') \\\n",
    "        .to_csv(source_file, columns=['Terminal', 'ApplicationId'], index = False)"
   ]
  },
  {
   "cell_type": "code",
   "execution_count": 412,
   "metadata": {},
   "outputs": [
    {
     "name": "stdout",
     "output_type": "stream",
     "text": [
      "Registros por ocorrência:\n",
      "\t1 ocorrência(s): 17716\n"
     ]
    }
   ],
   "source": [
    "remove_repeated_entries(installations_file)\n",
    "\n",
    "show_repeated_entries_overview(installations_file)"
   ]
  },
  {
   "cell_type": "markdown",
   "metadata": {},
   "source": [
    "## Junção dos dados de Visualização/Instalação e Cálculo do Score \n",
    "\n",
    "Nesta etapa, consolidamos os dados de visualização e instalação dos aplicativos. \n",
    "A arbitragem do **score** dos aplicativos foi feita com base nas visualizações e instalações, punindo os que foram muito visualizados e pouco instalados.\n",
    "\n",
    "Para computar o **score**, primeiro calculamos a **relevância** do aplicativo que é a razão entre o total de instalações pelo total de visualizações. Em seguida, arbitramos um peso, onde a _visualização_ equivale a _1_ e _instalação_ a _3_. Por último multiplicamos o **peso** pela **relevância**.\n",
    "\n",
    "```\n",
    "Relevance = Installations / Views\n",
    "Score = Weight * Relevance\n",
    "```"
   ]
  },
  {
   "cell_type": "code",
   "execution_count": 413,
   "metadata": {},
   "outputs": [],
   "source": [
    "def export_views_and_installations_to_csv(views_file, installations_file, destination_file):\n",
    "    \n",
    "    df_views = pd.read_csv(views_file)\n",
    "    df_installations = pd.read_csv(installations_file)\n",
    "\n",
    "    df_views['View'] = 1\n",
    "    df_views['Installation'] = 0\n",
    "\n",
    "    df_installations['View'] = 0\n",
    "    df_installations['Installation'] = 1\n",
    "\n",
    "    df_views_and_intallations = pd.concat([df_views, df_installations])\n",
    "    \n",
    "    application_relevance = get_application_relevance(df_views_and_intallations)\n",
    "\n",
    "    grouped_multiple = df_views_and_intallations.groupby(['Terminal', 'ApplicationId'], as_index=False).agg({\"View\": \"count\", \"Installation\": \"max\"})\n",
    "    \n",
    "    items = []\n",
    "    for i, row in grouped_multiple.iterrows():\n",
    "        weight = 3 if row['Installation'] == 1 else 1\n",
    "        relevance = application_relevance[row['ApplicationId']]\n",
    "\n",
    "        item = {}\n",
    "        item['Terminal'] = int(row['Terminal'])\n",
    "        item['ApplicationId'] = int(row['ApplicationId'])\n",
    "        item['Score'] = round(weight * relevance, 4)\n",
    "        items.append(item)\n",
    "\n",
    "    df_output = pd.DataFrame(data=items)\n",
    "\n",
    "    df_output.to_csv(destination_file, index=False)\n",
    "\n",
    "def get_application_relevance(df_views_and_intallations):\n",
    "    df_grouped_applications = df_views_and_intallations.groupby(['ApplicationId'], as_index=False).agg({\"View\": \"sum\", \"Installation\": \"sum\"})\n",
    "\n",
    "    application_relevance = {}\n",
    "    for i, row in df_grouped_applications.iterrows():\n",
    "        application_relevance[row['ApplicationId']] = row['Installation'] / row['View']\n",
    "\n",
    "    return application_relevance    "
   ]
  },
  {
   "cell_type": "code",
   "execution_count": 414,
   "metadata": {},
   "outputs": [],
   "source": [
    "export_views_and_installations_to_csv(views_file, installations_file, applications_by_terminals_file)"
   ]
  },
  {
   "cell_type": "markdown",
   "metadata": {},
   "source": [
    "## Prévia dos dados processados"
   ]
  },
  {
   "cell_type": "code",
   "execution_count": 415,
   "metadata": {},
   "outputs": [
    {
     "data": {
      "text/html": [
       "<div>\n",
       "<style scoped>\n",
       "    .dataframe tbody tr th:only-of-type {\n",
       "        vertical-align: middle;\n",
       "    }\n",
       "\n",
       "    .dataframe tbody tr th {\n",
       "        vertical-align: top;\n",
       "    }\n",
       "\n",
       "    .dataframe thead th {\n",
       "        text-align: right;\n",
       "    }\n",
       "</style>\n",
       "<table border=\"1\" class=\"dataframe\">\n",
       "  <thead>\n",
       "    <tr style=\"text-align: right;\">\n",
       "      <th></th>\n",
       "      <th>Terminal</th>\n",
       "      <th>ApplicationId</th>\n",
       "      <th>Score</th>\n",
       "    </tr>\n",
       "  </thead>\n",
       "  <tbody>\n",
       "    <tr>\n",
       "      <th>0</th>\n",
       "      <td>62</td>\n",
       "      <td>3</td>\n",
       "      <td>1.0244</td>\n",
       "    </tr>\n",
       "    <tr>\n",
       "      <th>1</th>\n",
       "      <td>62</td>\n",
       "      <td>6</td>\n",
       "      <td>0.9426</td>\n",
       "    </tr>\n",
       "    <tr>\n",
       "      <th>2</th>\n",
       "      <td>62</td>\n",
       "      <td>8</td>\n",
       "      <td>0.9392</td>\n",
       "    </tr>\n",
       "    <tr>\n",
       "      <th>3</th>\n",
       "      <td>62</td>\n",
       "      <td>11</td>\n",
       "      <td>0.8012</td>\n",
       "    </tr>\n",
       "    <tr>\n",
       "      <th>4</th>\n",
       "      <td>62</td>\n",
       "      <td>19</td>\n",
       "      <td>0.9196</td>\n",
       "    </tr>\n",
       "  </tbody>\n",
       "</table>\n",
       "</div>"
      ],
      "text/plain": [
       "   Terminal  ApplicationId   Score\n",
       "0        62              3  1.0244\n",
       "1        62              6  0.9426\n",
       "2        62              8  0.9392\n",
       "3        62             11  0.8012\n",
       "4        62             19  0.9196"
      ]
     },
     "execution_count": 415,
     "metadata": {},
     "output_type": "execute_result"
    }
   ],
   "source": [
    "df = pd.read_csv(applications_by_terminals_file)\n",
    "\n",
    "df.head()"
   ]
  },
  {
   "cell_type": "code",
   "execution_count": null,
   "metadata": {},
   "outputs": [],
   "source": []
  }
 ],
 "metadata": {
  "kernelspec": {
   "display_name": "Python 3",
   "language": "python",
   "name": "python3"
  },
  "language_info": {
   "codemirror_mode": {
    "name": "ipython",
    "version": 3
   },
   "file_extension": ".py",
   "mimetype": "text/x-python",
   "name": "python",
   "nbconvert_exporter": "python",
   "pygments_lexer": "ipython3",
   "version": "3.7.6"
  }
 },
 "nbformat": 4,
 "nbformat_minor": 4
}
