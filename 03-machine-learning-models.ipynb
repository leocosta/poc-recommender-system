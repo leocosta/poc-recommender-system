{
 "cells": [
  {
   "cell_type": "markdown",
   "metadata": {},
   "source": [
    "# Modelos de Machine Learning\n",
    "\n",
    "- Carregamento dos dados de treino e teste\n",
    "- Criação das matrizes de treino e teste\n",
    "- Métodos de recomendação\n",
    "    - Função de apoio\n",
    "    - Most-Popular\n",
    "    - Best-Rated\n",
    "    - PureSVD"
   ]
  },
  {
   "cell_type": "code",
   "execution_count": 122,
   "metadata": {},
   "outputs": [],
   "source": [
    "import operator\n",
    "from collections import OrderedDict\n",
    "\n",
    "import matplotlib.pyplot as plt\n",
    "import numpy as np\n",
    "import pandas as pd\n",
    "import scipy\n",
    "from scipy.sparse import csr_matrix, linalg\n",
    "from sklearn.model_selection import train_test_split"
   ]
  },
  {
   "cell_type": "markdown",
   "metadata": {},
   "source": [
    "## Carregamento dos dados de treino e teste"
   ]
  },
  {
   "cell_type": "code",
   "execution_count": 123,
   "metadata": {},
   "outputs": [],
   "source": [
    "def read_train_and_test_df(file_name, test_size = 0.3):\n",
    "    r\"\"\"Reads training and tests data from file.\n",
    "\n",
    "    Args:\n",
    "        file_name (string): File name containing data frame.\n",
    "        test_size (float, optional): Percent of test data. Defaults to 0.3.\n",
    "\n",
    "    Returns:\n",
    "        tuple: Returns training and test data frames.\n",
    "    \"\"\"\n",
    "    df = pd.read_csv(file_name)    \n",
    "    df_train, df_test = train_test_split(df, test_size=test_size, random_state=1)\n",
    "\n",
    "    return df_train, df_test"
   ]
  },
  {
   "cell_type": "code",
   "execution_count": 124,
   "metadata": {},
   "outputs": [],
   "source": [
    "# Reading train and test data frames\n",
    "df_train, df_test = read_train_and_test_df('data/applications-by-terminals.csv')"
   ]
  },
  {
   "cell_type": "markdown",
   "metadata": {},
   "source": [
    "## Criação das matrizes de treino e teste"
   ]
  },
  {
   "cell_type": "code",
   "execution_count": 125,
   "metadata": {},
   "outputs": [],
   "source": [
    "def create_scores_matrix(df):\n",
    "    r\"\"\"Creates a compressed sparse row matrix.\n",
    "\n",
    "    Args:\n",
    "        df (DataFrame): Data frame containing rows, columns and values of csr_matrix. \n",
    "\n",
    "    Returns:\n",
    "        array: Returns a compressed sparse row matrix.\n",
    "    \"\"\"\n",
    "    # Select terminals, applications and scores logs \n",
    "    # (i.e., all information from each column)\n",
    "\n",
    "    terminals = df['Terminal']\n",
    "    applications = df['ApplicationId']\n",
    "    scores = df['Score']\n",
    "\n",
    "    # Define the matrix dimensions based on the max index \n",
    "    # related to terminals and applications\n",
    "\n",
    "    nb_terminals = max(terminals)\n",
    "    nb_applications = max(applications)\n",
    "\n",
    "    # Creating train matrix of scores\n",
    "    # csr_matrix = compressed sparse row matrix\n",
    "    scores_matrix = csr_matrix((scores, (terminals, applications)),  shape=(nb_terminals+1, nb_applications+1))\n",
    "\n",
    "    return scores_matrix"
   ]
  },
  {
   "cell_type": "markdown",
   "metadata": {},
   "source": [
    "### Matriz de treino"
   ]
  },
  {
   "cell_type": "code",
   "execution_count": 126,
   "metadata": {},
   "outputs": [],
   "source": [
    "# Creating train matrix of scores\n",
    "scores_matrix_train = create_scores_matrix(df_train)"
   ]
  },
  {
   "cell_type": "markdown",
   "metadata": {},
   "source": [
    "### Matriz de teste"
   ]
  },
  {
   "cell_type": "code",
   "execution_count": 127,
   "metadata": {},
   "outputs": [],
   "source": [
    "# Creating test matrix of scores\n",
    "scores_matrix_test = create_scores_matrix(df_test)"
   ]
  },
  {
   "cell_type": "markdown",
   "metadata": {},
   "source": [
    "## Métodos de recomendação"
   ]
  },
  {
   "cell_type": "markdown",
   "metadata": {},
   "source": [
    "### Função de apoio"
   ]
  },
  {
   "cell_type": "code",
   "execution_count": 128,
   "metadata": {},
   "outputs": [],
   "source": [
    "def save_recommendation(file_name, recommendation, terminals_targets):\n",
    "    r\"\"\"This function is used to save the recommendations in a file.\n",
    "\n",
    "    Args:\n",
    "        file_name (string): Recommendation file path.\n",
    "        recommendation (dict): Dictionary of recommended applications.\n",
    "        terminals_targets (array): Array of terminals.\n",
    "    \"\"\"\n",
    "\n",
    "    file_out = open(file_name, 'w')\n",
    "    \n",
    "    # for each user target\n",
    "    for terminal in terminals_targets:\n",
    "        issuedApplications = \"\"\n",
    "        #if terminal in recommendation:\n",
    "        # for each item in the previous order\n",
    "        for applicationId in recommendation[terminal]:\n",
    "            issuedApplications += str(applicationId) + \":\" + str(0.0) + \",\"\n",
    "        # saving in file in correct format\n",
    "        string_s = str(terminal) + \"\\t\" + \"[\" + issuedApplications\n",
    "        string_out = string_s[:-1] + ']'\n",
    "        file_out.write(string_out + \"\\n\")\n",
    "    \n",
    "    file_out.close()"
   ]
  },
  {
   "cell_type": "markdown",
   "metadata": {},
   "source": [
    "### _Most-Popular_"
   ]
  },
  {
   "cell_type": "code",
   "execution_count": 129,
   "metadata": {},
   "outputs": [],
   "source": [
    "def predict_using_most_popular(scores_matrix):\n",
    "    r\"\"\"Retrieves the most popular applications between terminals.\n",
    "\n",
    "    Args:\n",
    "        scores_matrix (array): Array of score values.\n",
    "\n",
    "    Returns:\n",
    "        array: Returns the most popular applications between terminals.\n",
    "    \"\"\"\n",
    "    # Items popularity\n",
    "    items_popularity = {}\n",
    "    for i in range(scores_matrix.shape[1]):\n",
    "        items_popularity[i] = scores_matrix[:,i].count_nonzero()\n",
    "\n",
    "    #  Sorting the ApplicationId descending by its popularity\n",
    "    popularity_order = OrderedDict(sorted(items_popularity.items(), key=operator.itemgetter(1), reverse=True))\n",
    "    most_popular = list(popularity_order.keys())\n",
    "\n",
    "    return most_popular\n",
    "\n",
    "def recommend_using_most_popular(scores_matrix, most_popular, top = 10):\n",
    "    r\"\"\"Recommend items based in the most popular recommendation.\n",
    "    The recommendation is related to the most popular applications between the terminals.\n",
    "\n",
    "    Args:\n",
    "        scores_matrix (array): Array of score values.\n",
    "        best_rated (array): Array of the most popular applications between the terminals.\n",
    "        top (int, optional): Size of each recommendation. Defaults to 10.\n",
    "\n",
    "    Returns:\n",
    "        dict: Returns top n recommended applications.\n",
    "    \"\"\"       \n",
    "    # Setting the recommendations of items that have not be rated by the terminal\n",
    "    recommendation = {}\n",
    "\n",
    "    for u in range(scores_matrix.shape[0]):\n",
    "        # recommending just the most popular\n",
    "        recommendation[u] = []\n",
    "        cont = 0\n",
    "        # recommending the most popular that have never seen by terminals\n",
    "        for i in most_popular:\n",
    "            # recommending the top-k items \n",
    "            if (cont < top):\n",
    "                if (scores_matrix[u, i]==0):\n",
    "                    recommendation[u].append(i)\n",
    "                    cont += 1\n",
    "            else:\n",
    "                break\n",
    "\n",
    "    return recommendation\n"
   ]
  },
  {
   "cell_type": "markdown",
   "metadata": {},
   "source": [
    "### Gerando lista de recomendados"
   ]
  },
  {
   "cell_type": "code",
   "execution_count": 130,
   "metadata": {},
   "outputs": [
    {
     "data": {
      "text/plain": [
       "[144, 160, 164, 150, 161, 146, 149, 154, 152, 162]"
      ]
     },
     "execution_count": 130,
     "metadata": {},
     "output_type": "execute_result"
    }
   ],
   "source": [
    "# Most-Popular Recommendation\n",
    "most_popular = predict_using_most_popular(scores_matrix_train)\n",
    "recommendation = recommend_using_most_popular(scores_matrix_train, most_popular)\n",
    "\n",
    "recommendation[10]"
   ]
  },
  {
   "cell_type": "markdown",
   "metadata": {},
   "source": [
    "### Salvando recomendação"
   ]
  },
  {
   "cell_type": "code",
   "execution_count": 131,
   "metadata": {},
   "outputs": [],
   "source": [
    "# Save in a file\n",
    "terminals_targets = df_test['Terminal'].unique() \n",
    "save_recommendation('data/recList_MostPopular.txt', recommendation, terminals_targets)"
   ]
  },
  {
   "cell_type": "markdown",
   "metadata": {},
   "source": [
    "## _Best-Rated_"
   ]
  },
  {
   "cell_type": "code",
   "execution_count": 132,
   "metadata": {},
   "outputs": [],
   "source": [
    "def predict_using_best_rated(scores_matrix):\n",
    "    r\"\"\"Retrieves the most popular items between terminals based in the mean of applications' scores.\n",
    "\n",
    "    Args:\n",
    "        scores_matrix (array): Array of score values.\n",
    "\n",
    "    Returns:\n",
    "        array: Returns the best rated items between terminals based in the mean of applications' scores.\n",
    "    \"\"\"    \n",
    "    # Measure the mean of items' scores\n",
    "    items_score = {}\n",
    "    for i in range(scores_matrix.shape[1]):\n",
    "        items_score[i] = np.mean(scores_matrix[:,i])\n",
    "\n",
    "    # Sorting the itemId descending by its popularity\n",
    "    score_order = OrderedDict(sorted(items_score.items(), key=operator.itemgetter(1), reverse=True))\n",
    "    best_rated = list(score_order.keys())\n",
    "\n",
    "    return best_rated\n",
    "\n",
    "def recommend_using_best_rated(scores_matrix, best_rated, top = 10):\n",
    "    r\"\"\"Recommend items based in best rated recommendation.\n",
    "    The recommendation is related to the best rated applications based in the mean of applications' scores.\n",
    "\n",
    "    Args:\n",
    "        scores_matrix (array): Array of score values.\n",
    "        best_rated (array): Array of the best rated applications between terminals.\n",
    "        top (int, optional): Size of each recommendation. Defaults to 10.\n",
    "\n",
    "    Returns:\n",
    "        dict: Returns top n recommended applications.\n",
    "    \"\"\"    \n",
    "    # Setting the recommendations of items that have not be rated by the terminal\n",
    "    recommendation = {}\n",
    "\n",
    "    for u in range(scores_matrix.shape[0]):\n",
    "        # recommending just the most popular\n",
    "        recommendation[u] = []\n",
    "        cont = 0\n",
    "        # recommending the most popular that have never seen by users\n",
    "        for i in best_rated:\n",
    "            # recommending the top-k items \n",
    "            if (cont < top):\n",
    "                if (scores_matrix[u, i]==0):\n",
    "                    recommendation[u].append(i)\n",
    "                    cont += 1\n",
    "            else:\n",
    "                break\n",
    "\n",
    "    return recommendation"
   ]
  },
  {
   "cell_type": "markdown",
   "metadata": {},
   "source": [
    "### Gerando lista de recomendados"
   ]
  },
  {
   "cell_type": "code",
   "execution_count": 133,
   "metadata": {},
   "outputs": [
    {
     "data": {
      "text/plain": [
       "[144, 160, 146, 153, 164, 161, 154, 150, 163, 162]"
      ]
     },
     "execution_count": 133,
     "metadata": {},
     "output_type": "execute_result"
    }
   ],
   "source": [
    "# Best-Rated Recommendation\n",
    "best_rated = predict_using_best_rated(scores_matrix_train)\n",
    "recommendation = recommend_using_best_rated(scores_matrix_train, best_rated)\n",
    "\n",
    "recommendation[10]"
   ]
  },
  {
   "cell_type": "markdown",
   "metadata": {},
   "source": [
    "### Salvando recomendação"
   ]
  },
  {
   "cell_type": "code",
   "execution_count": 134,
   "metadata": {},
   "outputs": [],
   "source": [
    "# Save in a file\n",
    "terminals_targets = df_test['Terminal'].unique()\n",
    "save_recommendation('data/recList_BestRated.txt', recommendation, terminals_targets)"
   ]
  },
  {
   "cell_type": "markdown",
   "metadata": {},
   "source": [
    "## _PureSVD_\n",
    "\n",
    "Dada a matriz de scores, aplicamos o SVD para extrair três matrizes:\n",
    "    - U representa os fatores do alvo (terminal) (m x f)\n",
    "    - S os valores próprios associados a cada vetor próprio (f x f)\n",
    "    - Q representa os fatores dos itens (f x n)\n",
    "\n",
    "A predição segue a fórmula dada por: \n",
    "\n",
    "$\n",
    "\\begin{align}\n",
    "\\widehat{r}_{ui} = r_u \\cdot Q^T \\cdot q_i\n",
    "\\end{align}\n",
    "$    "
   ]
  },
  {
   "cell_type": "code",
   "execution_count": 135,
   "metadata": {},
   "outputs": [],
   "source": [
    "def predict_using_pure_svd(scores_matrix, num_factors = 3):\n",
    "    r\"\"\"In PureSVD model, the prediction is based on the latent factors \n",
    "    extracted via SVD.\n",
    "\n",
    "    - Let a scores matrix, we apply the SVD to extract three matrices:\n",
    "        - *U* represents the users factors *(m x f)*\n",
    "        - *S* the eigenvalues associated to each eigenvector *(f x f)*\n",
    "        - *Q* represents the items factors *(f x n)*\n",
    "\n",
    "    - The prediction is similar to:\n",
    "    $\n",
    "    \\begin{align}\n",
    "    \\widehat{r}_{ui} = r_u \\cdot Q^T \\cdot q_i\n",
    "    \\end{align}\n",
    "    $    \n",
    "\n",
    "    Args:\n",
    "        scores_matrix (array): Array of score values.\n",
    "        num_factors (int, optional): Define the number of latent factors and use it to run the SVD method. Defaults to 3.\n",
    "\n",
    "    Returns:\n",
    "        [array]: Returns the matrix with PureSVD prediction.\n",
    "    \"\"\"\n",
    "\n",
    "    [U, S, Q_t] = scipy.sparse.linalg.svds(scores_matrix, num_factors, return_singular_vectors=True)\n",
    "\n",
    "    # Predict scores for each terminal-application based on the PureSVD rules.\n",
    "    prediction_matrix = csr_matrix((scores_matrix.shape[0], scores_matrix.shape[1]))\n",
    "\n",
    "    Q = Q_t.transpose()\n",
    "\n",
    "    aux_matrix = scores_matrix.dot(Q)\n",
    "    prediction_matrix = aux_matrix.dot(Q_t)\n",
    "\n",
    "    return prediction_matrix\n",
    "\n",
    "def recommend_using_pure_svd(scores_matrix, prediction_matrix, top = 10):\n",
    "    r\"\"\"Recommend items based in PureSVD recommendation.\n",
    "    The recommendation is related to the cosine similarity of \n",
    "    terminals and applications vectors.\n",
    "\n",
    "    Args:\n",
    "        scores_matrix (array): Array of score values.\n",
    "        prediction_matrix (array): Array of terminal and applications coeficient correlations.\n",
    "        top (int, optional): Size of each recommendation. Defaults to 10.\n",
    "\n",
    "    Returns:\n",
    "        dict: Returns top n recommended applications.\n",
    "    \"\"\"\n",
    "    \n",
    "    # Setting the recommendations for each terminal\n",
    "    recommendation = {}\n",
    "\n",
    "    for terminal in range(scores_matrix.shape[0]):\n",
    "        recommendation[terminal] = []\n",
    "        cont = 0\n",
    "        # sorting items by relevance\n",
    "        orderedApps = np.argsort(prediction_matrix[terminal,:])[::-1]\n",
    "        # recommending the best applications that have never seen by terminals\n",
    "        for app in orderedApps:\n",
    "            # recommending the top-k items \n",
    "            if (cont < top):\n",
    "                if (scores_matrix[terminal,app] == 0):\n",
    "                    recommendation[terminal].append(app)\n",
    "                    cont += 1\n",
    "            else:\n",
    "                break\n",
    "    \n",
    "    return recommendation"
   ]
  },
  {
   "cell_type": "markdown",
   "metadata": {},
   "source": [
    "### Gerando lista de recomendados"
   ]
  },
  {
   "cell_type": "code",
   "execution_count": 136,
   "metadata": {},
   "outputs": [
    {
     "data": {
      "text/plain": [
       "[221, 69, 80, 79, 78, 77, 76, 75, 74, 73]"
      ]
     },
     "execution_count": 136,
     "metadata": {},
     "output_type": "execute_result"
    }
   ],
   "source": [
    "# PureSVD Recommendation\n",
    "prediction_matrix = predict_using_pure_svd(scores_matrix_train)\n",
    "recommendation = recommend_using_pure_svd(scores_matrix_train, prediction_matrix)\n",
    "\n",
    "recommendation[10]"
   ]
  },
  {
   "cell_type": "markdown",
   "metadata": {},
   "source": [
    "### Salvando recomendação"
   ]
  },
  {
   "cell_type": "code",
   "execution_count": 137,
   "metadata": {},
   "outputs": [],
   "source": [
    "# Save in a file\n",
    "terminals_targets = df_test['Terminal'].unique()\n",
    "save_recommendation('data/recList_PureSVD.txt', recommendation, terminals_targets)"
   ]
  }
 ],
 "metadata": {
  "kernelspec": {
   "display_name": "Python 3",
   "language": "python",
   "name": "python3"
  },
  "language_info": {
   "codemirror_mode": {
    "name": "ipython",
    "version": 3
   },
   "file_extension": ".py",
   "mimetype": "text/x-python",
   "name": "python",
   "nbconvert_exporter": "python",
   "pygments_lexer": "ipython3",
   "version": "3.7.6"
  }
 },
 "nbformat": 4,
 "nbformat_minor": 4
}
